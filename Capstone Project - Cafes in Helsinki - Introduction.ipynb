{
    "nbformat_minor": 1, 
    "cells": [
        {
            "source": "# Capstone Project - Cafes in Helsinki\n\n## Introduction / business problem\n\nIn a city of Helsinki, if someone is looking to open a caf\u00e9 restaurant, **the question is**, where would you recommend that they open it? **The background of the problem** is that in order for a caf\u00e9 to be profitable, there must be enough customers, and in order to have enough customers, it is not worth setting up a caf\u00e9 in the immediate promixity of existing ones.\n\nLet's also make sure that **audience is explicitly defined** to be the local restaurant entrepreuners in Helsinki and **they should care about this problem** because the location of the new caf\u00e9 has a significant impact on the expected returns.", 
            "cell_type": "markdown", 
            "metadata": {
                "collapsed": true
            }
        }
    ], 
    "metadata": {
        "kernelspec": {
            "display_name": "Python 3.5", 
            "name": "python3", 
            "language": "python"
        }, 
        "language_info": {
            "mimetype": "text/x-python", 
            "nbconvert_exporter": "python", 
            "version": "3.5.5", 
            "name": "python", 
            "file_extension": ".py", 
            "pygments_lexer": "ipython3", 
            "codemirror_mode": {
                "version": 3, 
                "name": "ipython"
            }
        }
    }, 
    "nbformat": 4
}